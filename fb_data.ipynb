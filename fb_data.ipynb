{
 "cells": [
  {
   "cell_type": "code",
   "execution_count": null,
   "id": "worldwide-tuner",
   "metadata": {},
   "outputs": [],
   "source": [
    "import json\n",
    "import os\n",
    "from pathlib import Path\n",
    "\n",
    "import numpy as np\n",
    "import pandas as pd\n",
    "import matplotlib.pyplot as plt\n",
    "import seaborn as sns"
   ]
  },
  {
   "cell_type": "code",
   "execution_count": null,
   "id": "foster-constraint",
   "metadata": {},
   "outputs": [],
   "source": [
    "import altair as alt\n",
    "from altair import datum, expr\n",
    "from vega_datasets import data\n",
    "\n",
    "alt.data_transformers.disable_max_rows()"
   ]
  },
  {
   "cell_type": "code",
   "execution_count": null,
   "id": "ordinary-strap",
   "metadata": {},
   "outputs": [],
   "source": [
    "def build_dataframe(path='messages'):\n",
    "    rows_list = []\n",
    "    for filename in Path(path).glob('inbox/*/message_*.json'):\n",
    "        chat = filename.parent.name\n",
    "        with open(filename, 'r') as f:\n",
    "            obj = json.load(f)\n",
    "        for entry in obj['messages']:\n",
    "            if entry['type'] == 'Generic' and entry.get('content') is not None:\n",
    "                rows_list.append({\n",
    "                    'chat': chat,\n",
    "                    'sender': entry['sender_name'],\n",
    "                    'time': pd.to_datetime(entry['timestamp_ms'], unit='ms'),\n",
    "                    'content': entry['content'],\n",
    "                })\n",
    "    return pd.DataFrame(rows_list)\n",
    "\n",
    "df = build_dataframe()"
   ]
  },
  {
   "cell_type": "code",
   "execution_count": null,
   "id": "broken-particle",
   "metadata": {},
   "outputs": [],
   "source": [
    "df"
   ]
  },
  {
   "cell_type": "code",
   "execution_count": null,
   "id": "imported-cornell",
   "metadata": {},
   "outputs": [],
   "source": [
    "df.chat.value_counts()"
   ]
  },
  {
   "cell_type": "code",
   "execution_count": null,
   "id": "foreign-immune",
   "metadata": {},
   "outputs": [],
   "source": [
    "alt.Chart(df).mark_line().encode(\n",
    "    x='yearmonth(time):T',\n",
    "    y='count()',\n",
    ")"
   ]
  },
  {
   "cell_type": "code",
   "execution_count": null,
   "id": "based-third",
   "metadata": {},
   "outputs": [],
   "source": [
    "alt.Chart(df).mark_bar().encode(\n",
    "    x='yearmonth(time):T',\n",
    "    y='count()',\n",
    "    color='chat:N',\n",
    "    tooltip=['chat', 'count()'],\n",
    ").properties(\n",
    "    title='Number of Facebook Messages',\n",
    ").interactive()"
   ]
  },
  {
   "cell_type": "code",
   "execution_count": null,
   "id": "cosmetic-questionnaire",
   "metadata": {},
   "outputs": [],
   "source": [
    "chat_id = '21buddies__yjaob9r8g'\n",
    "\n",
    "alt.Chart(df.query(f'chat == \"{chat_id}\"')).mark_bar().encode(\n",
    "    color='sender:N',\n",
    "    x='yearmonth(time):T',\n",
    "    y='count()',\n",
    "    tooltip=['sender', 'count()'],\n",
    ").properties(\n",
    "    title='Facebook Messages in Group Chat',\n",
    ")"
   ]
  },
  {
   "cell_type": "code",
   "execution_count": null,
   "id": "bibliographic-brass",
   "metadata": {},
   "outputs": [],
   "source": [
    "alt.Chart(df).mark_bar().encode(\n",
    "    alt.X('count()', stack='normalize', title='frequency'),\n",
    "    alt.Y('chat'),\n",
    "    alt.Color('sender'),\n",
    "    tooltip=['sender', alt.Tooltip('count()', title='messages')],\n",
    ").properties(\n",
    "    title='Who Dominates the Conversation?',\n",
    ")"
   ]
  },
  {
   "cell_type": "code",
   "execution_count": null,
   "id": "supreme-mattress",
   "metadata": {},
   "outputs": [],
   "source": [
    "sender = 'Cindy Liu'\n",
    "\n",
    "alt.Chart(df).mark_rect().encode(\n",
    "    alt.X('date(time):O', title='day'),\n",
    "    alt.Y('yearmonth(time):O', title='month'),\n",
    "    alt.Color('count()', scale=alt.Scale(type='linear')),\n",
    "    tooltip=[\n",
    "        alt.Tooltip('count()', title='Messages'),\n",
    "        alt.Tooltip('sum(words):Q', title='Words'),\n",
    "    ],\n",
    ").transform_filter(\n",
    "    datum.sender == sender,\n",
    ").transform_calculate(\n",
    "    words=expr.length(expr.split(datum.content, ' ')),\n",
    ").properties(\n",
    "    title='Number of Messages Sent by Day',\n",
    ")"
   ]
  },
  {
   "cell_type": "code",
   "execution_count": null,
   "id": "serial-buyer",
   "metadata": {},
   "outputs": [],
   "source": [
    "alt.Chart(df).mark_bar().encode(\n",
    "    \n",
    "    x=alt.X(\"sender:N\", title=\"Sender\", sort = alt.EncodingSortField(\n",
    "                    field=\"words\", op=\"mean\", order=\"descending\")),\n",
    "    y=alt.Y(\"average(words):Q\", title=\"Average Length of Message\"),\n",
    "    color=alt.Color('average(words):Q', scale=alt.Scale(scheme='teals')),\n",
    "    tooltip=[\n",
    "        alt.Tooltip('count()', title='Messages'),\n",
    "        alt.Tooltip('average(words):Q', title='Average Words'),\n",
    "    ],\n",
    ").transform_calculate(\n",
    "    words=expr.length(expr.split(datum.content, ' ')),\n",
    ").properties(\n",
    "    title='Average Length of Texts',\n",
    ")"
   ]
  },
  {
   "cell_type": "code",
   "execution_count": null,
   "id": "historic-solution",
   "metadata": {},
   "outputs": [],
   "source": [
    "me = 'Cindy Liu'\n",
    "\n",
    "alt.Chart(df).mark_rect().encode(\n",
    "    alt.X('date(time):O', title='day'),\n",
    "    alt.Y('yearmonth(time):O', title='month'),\n",
    "    alt.Color('count()', scale=alt.Scale(scheme='purplered')),\n",
    "    tooltip=[\n",
    "        alt.Tooltip('count()', title='Messages'),\n",
    "        alt.Tooltip('sum(words):Q', title='Words'),\n",
    "    ],\n",
    ").transform_filter(\n",
    "    datum.sender != me,\n",
    ").transform_calculate(\n",
    "    words=expr.length(expr.split(datum.content, ' ')),\n",
    ").properties(\n",
    "    title='Number of Messages Received By Day',\n",
    ")"
   ]
  }
 ],
 "metadata": {
  "kernelspec": {
   "display_name": "Python 3",
   "language": "python",
   "name": "python3"
  },
  "language_info": {
   "codemirror_mode": {
    "name": "ipython",
    "version": 3
   },
   "file_extension": ".py",
   "mimetype": "text/x-python",
   "name": "python",
   "nbconvert_exporter": "python",
   "pygments_lexer": "ipython3",
   "version": "3.8.2"
  }
 },
 "nbformat": 4,
 "nbformat_minor": 5
}
